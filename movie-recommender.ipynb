{
 "cells": [
  {
   "cell_type": "code",
   "execution_count": 19,
   "id": "df9b674b-a056-41ea-9cbc-07a74894d1e1",
   "metadata": {},
   "outputs": [],
   "source": [
    "from sys import exc_info\n",
    "import ast\n",
    "\n",
    "import pandas as pd\n",
    "import numpy as np\n",
    "import matplotlib \n",
    "from matplotlib import pyplot as plt\n",
    "import seaborn as sns\n",
    "import sklearn\n",
    "# U ovom slucaju cemo ga koristiti za kreiranje rastrkane matrice\n",
    "from sklearn.feature_extraction.text import CountVectorizer\n",
    "from sklearn.cluster import KMeans\n",
    "# Napredni KMeans algoritam koji ima mogucnost postavljanja najmanjeg broja tacaka u klasteru\n",
    "from k_means_constrained import KMeansConstrained\n",
    "# Klasa za prepoznavanje optimalnog broja klastera\n",
    "from yellowbrick.cluster import KElbowVisualizer\n",
    "from yellowbrick.cluster import SilhouetteVisualizer\n",
    "import pickle"
   ]
  },
  {
   "cell_type": "markdown",
   "id": "0c7ec76d-1649-468d-913f-347e9c47daa0",
   "metadata": {},
   "source": [
    "## Ucitavamo podatke"
   ]
  },
  {
   "cell_type": "code",
   "execution_count": 20,
   "id": "b62dd290-9c9a-473d-8f4e-1f51e6dbbd45",
   "metadata": {},
   "outputs": [],
   "source": [
    "ratings = pd.read_csv('datasets/rating.csv', usecols=['userId', 'movieId', 'rating'])\n",
    "movies = pd.read_csv('datasets/movie.csv', usecols=['movieId', 'title', 'genres'])"
   ]
  },
  {
   "cell_type": "markdown",
   "id": "66ea9ce0-bf1f-4d37-934b-249f033f7884",
   "metadata": {},
   "source": [
    "Trebamo da smanjimo broj podataka s kojim cemo raditi\n",
    "Obrada 20 miliona recenzija je previse za nas CPU a  \n",
    "Recenzije ispod 4.0 ocjene nam nisu potrebne jer nas zanimaju samo oni filmovi koji se korisniku svidjaju"
   ]
  },
  {
   "cell_type": "code",
   "execution_count": 21,
   "id": "8a91badd-d407-4bf0-acf3-3d3ab6f033fe",
   "metadata": {},
   "outputs": [],
   "source": [
    "ratings = ratings[ratings['rating'] >= 4.0]"
   ]
  },
  {
   "cell_type": "code",
   "execution_count": 22,
   "id": "96a268b0-4571-4e9f-925f-7c31281a4ab2",
   "metadata": {},
   "outputs": [
    {
     "data": {
      "text/plain": [
       "(9995410, 3)"
      ]
     },
     "execution_count": 22,
     "metadata": {},
     "output_type": "execute_result"
    }
   ],
   "source": [
    "ratings.shape"
   ]
  },
  {
   "cell_type": "markdown",
   "id": "491e65ac-b6ee-4aba-b5ff-65b0aa506aa2",
   "metadata": {},
   "source": [
    "Skratili smo broj recenzija na skoro 10 miliona, smatram da je to i dalje prevelik broj  \n",
    "Mozemo se ogranciti na 1500 filmova, smatram da je to dovoljno da bi se prikazale zadovoljavajuce preporuke"
   ]
  },
  {
   "cell_type": "code",
   "execution_count": 23,
   "id": "23920140-65d5-4b35-98ad-c5a642f17b22",
   "metadata": {},
   "outputs": [],
   "source": [
    "unique_movie_ids = np.unique(ratings['movieId'])[:1500]"
   ]
  },
  {
   "cell_type": "code",
   "execution_count": 24,
   "id": "0ed74571-8fa3-4e71-8bf6-daf7d3fa7583",
   "metadata": {},
   "outputs": [
    {
     "data": {
      "text/plain": [
       "(4344859, 3)"
      ]
     },
     "execution_count": 24,
     "metadata": {},
     "output_type": "execute_result"
    }
   ],
   "source": [
    "# Slijedi korak gdje cemo uzeti samo recenzije filmova koje smo prethodno filtrirali\n",
    "ratings = ratings.loc[ratings['movieId'].isin(unique_movie_ids)]\n",
    "ratings.shape"
   ]
  },
  {
   "cell_type": "code",
   "execution_count": 25,
   "id": "f060999a-86e3-43fa-a108-2b5062dc318c",
   "metadata": {},
   "outputs": [],
   "source": [
    "# Isti korak mozemo uraditi i za korisnike, uzet cemo hiljadu korisnika\n",
    "unique_users_ids = np.unique(ratings['userId'])[:1000]"
   ]
  },
  {
   "cell_type": "code",
   "execution_count": 26,
   "id": "4feb7cc8-30e9-41a1-b4dd-766de7994b0a",
   "metadata": {},
   "outputs": [
    {
     "data": {
      "text/plain": [
       "(31708, 3)"
      ]
     },
     "execution_count": 26,
     "metadata": {},
     "output_type": "execute_result"
    }
   ],
   "source": [
    "ratings = ratings.loc[ratings['userId'].isin(unique_users_ids)]\n",
    "ratings.shape"
   ]
  },
  {
   "cell_type": "markdown",
   "id": "fd14bd6d-3dae-4132-9e4f-14e6baf77bf5",
   "metadata": {},
   "source": [
    "Dobili smo 31708 recenzija, smatram da je ovo dovoljno "
   ]
  },
  {
   "cell_type": "code",
   "execution_count": 27,
   "id": "66b076ca-9535-4136-ab5e-b2dc1f7b83f4",
   "metadata": {},
   "outputs": [
    {
     "data": {
      "text/html": [
       "<div>\n",
       "<style scoped>\n",
       "    .dataframe tbody tr th:only-of-type {\n",
       "        vertical-align: middle;\n",
       "    }\n",
       "\n",
       "    .dataframe tbody tr th {\n",
       "        vertical-align: top;\n",
       "    }\n",
       "\n",
       "    .dataframe thead th {\n",
       "        text-align: right;\n",
       "    }\n",
       "</style>\n",
       "<table border=\"1\" class=\"dataframe\">\n",
       "  <thead>\n",
       "    <tr style=\"text-align: right;\">\n",
       "      <th></th>\n",
       "      <th>0</th>\n",
       "      <th>1</th>\n",
       "      <th>2</th>\n",
       "      <th>3</th>\n",
       "      <th>4</th>\n",
       "      <th>5</th>\n",
       "      <th>6</th>\n",
       "      <th>7</th>\n",
       "      <th>8</th>\n",
       "      <th>9</th>\n",
       "      <th>...</th>\n",
       "      <th>31698</th>\n",
       "      <th>31699</th>\n",
       "      <th>31700</th>\n",
       "      <th>31701</th>\n",
       "      <th>31702</th>\n",
       "      <th>31703</th>\n",
       "      <th>31704</th>\n",
       "      <th>31705</th>\n",
       "      <th>31706</th>\n",
       "      <th>31707</th>\n",
       "    </tr>\n",
       "  </thead>\n",
       "  <tbody>\n",
       "    <tr>\n",
       "      <th>userId</th>\n",
       "      <td>1</td>\n",
       "      <td>1</td>\n",
       "      <td>1</td>\n",
       "      <td>1</td>\n",
       "      <td>1</td>\n",
       "      <td>1</td>\n",
       "      <td>1</td>\n",
       "      <td>1</td>\n",
       "      <td>1</td>\n",
       "      <td>1</td>\n",
       "      <td>...</td>\n",
       "      <td>1008</td>\n",
       "      <td>1008</td>\n",
       "      <td>1008</td>\n",
       "      <td>1008</td>\n",
       "      <td>1008</td>\n",
       "      <td>1008</td>\n",
       "      <td>1009</td>\n",
       "      <td>1009</td>\n",
       "      <td>1009</td>\n",
       "      <td>1009</td>\n",
       "    </tr>\n",
       "    <tr>\n",
       "      <th>movieId</th>\n",
       "      <td>151</td>\n",
       "      <td>223</td>\n",
       "      <td>253</td>\n",
       "      <td>260</td>\n",
       "      <td>293</td>\n",
       "      <td>296</td>\n",
       "      <td>318</td>\n",
       "      <td>541</td>\n",
       "      <td>1036</td>\n",
       "      <td>1079</td>\n",
       "      <td>...</td>\n",
       "      <td>786</td>\n",
       "      <td>788</td>\n",
       "      <td>828</td>\n",
       "      <td>1073</td>\n",
       "      <td>1356</td>\n",
       "      <td>1367</td>\n",
       "      <td>480</td>\n",
       "      <td>1275</td>\n",
       "      <td>1287</td>\n",
       "      <td>1291</td>\n",
       "    </tr>\n",
       "  </tbody>\n",
       "</table>\n",
       "<p>2 rows × 31708 columns</p>\n",
       "</div>"
      ],
      "text/plain": [
       "         0      1      2      3      4      5      6      7      8      9      \\\n",
       "userId       1      1      1      1      1      1      1      1      1      1   \n",
       "movieId    151    223    253    260    293    296    318    541   1036   1079   \n",
       "\n",
       "         ...  31698  31699  31700  31701  31702  31703  31704  31705  31706  \\\n",
       "userId   ...   1008   1008   1008   1008   1008   1008   1009   1009   1009   \n",
       "movieId  ...    786    788    828   1073   1356   1367    480   1275   1287   \n",
       "\n",
       "         31707  \n",
       "userId    1009  \n",
       "movieId   1291  \n",
       "\n",
       "[2 rows x 31708 columns]"
      ]
     },
     "execution_count": 27,
     "metadata": {},
     "output_type": "execute_result"
    }
   ],
   "source": [
    "# Sada cemo uzeti korisnike sa filmovima koje su ocijenili\n",
    "users_with_their_movies = ratings.loc[:,['userId','movieId']]\n",
    "# Resetovat cemo index jer krece od 6\n",
    "users_with_their_movies = users_with_their_movies.reset_index(drop=True)\n",
    "users_with_their_movies.T"
   ]
  },
  {
   "cell_type": "code",
   "execution_count": 28,
   "id": "867e9cfd-dcd9-414d-bbbd-be73829105b3",
   "metadata": {},
   "outputs": [],
   "source": [
    "# Mozemo sacuvati podatke o korisnicima i filmovima koje su ocijenili da bi ih kasnije mogli koristiti\n",
    "users_with_their_movies.to_csv('datasets/users_with_their_movies.csv')"
   ]
  },
  {
   "cell_type": "code",
   "execution_count": 29,
   "id": "dc58b1a3-4bce-4534-a037-c38de1c06b5e",
   "metadata": {},
   "outputs": [],
   "source": [
    "# Sljedeci korak je da dobijemo listu u kojoj ce se nalaziti liste filmova\n",
    "# Index liste ce odgovarati Id-u korisnika\n",
    "# user_ids - Lista user id-jeva\n",
    "# users_with_their_movies_df je lista iznad koju smo dobili i sacuvali u fajl\n",
    "def get_movies_of_users(users_ids, users_with_their_movies_df):\n",
    "    movies_of_users = []\n",
    "    for user_id in users_ids:\n",
    "        movies_of_users.append(\n",
    "            str(\n",
    "                list(\n",
    "                    users_with_their_movies_df[users_with_their_movies_df['userId'] == user_id]['movieId']\n",
    "                )\n",
    "            ).split('[')[1].split(']')[0]\n",
    "        )\n",
    "    return movies_of_users"
   ]
  },
  {
   "cell_type": "code",
   "execution_count": 30,
   "id": "29823725-665f-4d93-bbf1-4ba2ca78015f",
   "metadata": {},
   "outputs": [
    {
     "data": {
      "text/plain": [
       "(1397,)"
      ]
     },
     "execution_count": 30,
     "metadata": {},
     "output_type": "execute_result"
    }
   ],
   "source": [
    "# Listu users_ids dobijamo preko np.unique na data frame-u user_rated_movies_df\n",
    "users_ids = np.unique(users_with_their_movies)\n",
    "users_ids.shape"
   ]
  },
  {
   "cell_type": "markdown",
   "id": "77f1637a-45a0-491d-917b-e0c79299fe43",
   "metadata": {},
   "source": [
    "Dobili smo da imamo 1397 jedinstvenih korisnika"
   ]
  },
  {
   "cell_type": "code",
   "execution_count": 31,
   "id": "e64ab976-2ecf-417e-973f-6d470759ecdb",
   "metadata": {},
   "outputs": [
    {
     "data": {
      "text/plain": [
       "['151, 223, 253, 260, 293, 296, 318, 541, 1036, 1079, 1090, 1097, 1196, 1198, 1200, 1214, 1215, 1219, 1240, 1249, 1258, 1259, 1266, 1278, 1321, 1333, 1358, 1374, 1387']"
      ]
     },
     "execution_count": 31,
     "metadata": {},
     "output_type": "execute_result"
    }
   ],
   "source": [
    "# Sada pozivom funkcije get_movies_of_users pripremamo ulazni parametar za matricu\n",
    "users_with_movies_prepared_for_matrix = get_movies_of_users(users_ids, users_with_their_movies)\n",
    "# Lista izgleda ovako, index 0 odgovara prvom korisniku\n",
    "users_with_movies_prepared_for_matrix[0:1]"
   ]
  },
  {
   "cell_type": "markdown",
   "id": "a5b4904d-ad9b-4cca-8cf0-709c61fec60d",
   "metadata": {},
   "source": [
    "Prvi korisnik je ocijenio ove filmove"
   ]
  },
  {
   "cell_type": "code",
   "execution_count": 32,
   "id": "cab145fd-0377-47f6-b9f7-87a3c5675030",
   "metadata": {},
   "outputs": [],
   "source": [
    "# Inicijalizovati cemo CountVectorizer koji ima mogucnost da kreira rastrkanu matricu\n",
    "# Da bi kasnije radili predikcije, bitno nam je da nam countVectorizer ostane isti, tako da cemo ga u funkciji vratiti\n",
    "def create_matrix_from_list(users_with_movies_prepared_for_matrix):\n",
    "    count_vectorizer = CountVectorizer(token_pattern=r'[^\\,\\ ]+', lowercase=False)\n",
    "    matrix_fitted_and_transformed = count_vectorizer.fit_transform(users_with_movies_prepared_for_matrix)\n",
    "    # Matricu cemo vratiti kao listu, jer nam ovakav objekat ne moze pomoci\n",
    "    # Izvaditi cemo i filmove preko feature_names takodje\n",
    "    return count_vectorizer, matrix_fitted_and_transformed.toarray(), count_vectorizer.get_feature_names()"
   ]
  },
  {
   "cell_type": "code",
   "execution_count": 33,
   "id": "8af640a1-0fa0-4fa4-ad84-2c50e626db87",
   "metadata": {},
   "outputs": [],
   "source": [
    "count_vectorizer, matrix, feature_names = create_matrix_from_list(users_with_movies_prepared_for_matrix)"
   ]
  },
  {
   "cell_type": "markdown",
   "id": "a64f0d68-77f5-4c86-ab64-d4c257a73103",
   "metadata": {},
   "source": [
    "# Obucavanje modela"
   ]
  },
  {
   "cell_type": "markdown",
   "id": "1f06b89f-0515-4a2c-bbdb-3fb2cbc09c17",
   "metadata": {},
   "source": [
    "Iskoristiti cemo dve metode za odredjivanje optimalnog broja klastera"
   ]
  },
  {
   "cell_type": "markdown",
   "id": "2d1e1659-246e-4234-8724-a5d5d835e951",
   "metadata": {},
   "source": [
    "### Davies-Bouldin Index"
   ]
  },
  {
   "cell_type": "code",
   "execution_count": 34,
   "id": "87e1ed91-995d-4cf1-929b-8a056233d421",
   "metadata": {},
   "outputs": [
    {
     "data": {
      "image/png": "[encoded data removed]",
      "text/plain": [
       "<Figure size 576x396 with 1 Axes>"
      ]
     },
     "metadata": {},
     "output_type": "display_data"
    },
    {
     "data": {
      "text/plain": [
       "<Figure size 720x720 with 0 Axes>"
      ]
     },
     "metadata": {},
     "output_type": "display_data"
    }
   ],
   "source": [
    "from sklearn.metrics import davies_bouldin_score\n",
    "\n",
    "def get_davies_bouldin_scores(matrix, start, stop):    \n",
    "    # Lista koja ce cuvati sve rezultate\n",
    "    db_scores = []\n",
    "    for i in range(start, stop):\n",
    "        kmeans = KMeans(i)\n",
    "        kmeans.fit(matrix)\n",
    "        db_scores.append(davies_bouldin_score(matrix, kmeans.labels_))\n",
    "    return db_scores\n",
    "\n",
    "# Rezultate funkcije mozemo isplotovati da pronadjemo lakat\n",
    "davies_bouldin_scores = get_davies_bouldin_scores(matrix, 2, 25)\n",
    "davies_bouldin_plot = sns.lineplot(x=list(range(2, 25)), y=davies_bouldin_scores)\n",
    "\n",
    "plt.figure(figsize=(10, 10))\n",
    "davies_bouldin_plot.set(xlabel='Broj klastera', ylabel='Rezultat')\n",
    "plt.show()"
   ]
  },
  {
   "cell_type": "markdown",
   "id": "9e07fe39-fcc9-4113-a1bb-2b84c836f2f5",
   "metadata": {},
   "source": [
    "Na osnovu Davies-Bouldin Index-a, dobijamo da je optimalan broj klastera negdje oko 5 do 6"
   ]
  },
  {
   "cell_type": "markdown",
   "id": "195a9861-57c8-4114-95ad-53a89c06102b",
   "metadata": {},
   "source": [
    "### Calinski-Harabasz Index"
   ]
  },
  {
   "cell_type": "markdown",
   "id": "32c7cd07-d720-48aa-ae83-33983edf101a",
   "metadata": {},
   "source": [
    "Imamo biblioteku KElbowVisualizer koja ce nam sama prikazati na kom je broj lakat"
   ]
  },
  {
   "cell_type": "code",
   "execution_count": 35,
   "id": "14213be4-5cd5-42b6-ba66-9771ef811013",
   "metadata": {},
   "outputs": [
    {
     "data": {
      "image/png": "[encoded data removed]",
      "text/plain": [
       "<Figure size 576x396 with 2 Axes>"
      ]
     },
     "metadata": {},
     "output_type": "display_data"
    },
    {
     "data": {
      "text/plain": [
       "<AxesSubplot:title={'center':'Calinski Harabasz Score Elbow for KMeans Clustering'}, xlabel='k', ylabel='calinski harabasz score'>"
      ]
     },
     "execution_count": 35,
     "metadata": {},
     "output_type": "execute_result"
    }
   ],
   "source": [
    "calinski_harabasz_model = KMeans()\n",
    "calinski_harabasz_visualizer = KElbowVisualizer(calinski_harabasz_model, k=(4, 12), metric='calinski_harabasz')\n",
    "calinski_harabasz_visualizer.fit(matrix)\n",
    "calinski_harabasz_visualizer.show()"
   ]
  },
  {
   "cell_type": "markdown",
   "id": "c625ea5f-51aa-4f47-bd23-4f5b73b2cdf0",
   "metadata": {},
   "source": [
    "### Silhouette "
   ]
  },
  {
   "cell_type": "code",
   "execution_count": 63,
   "id": "eccb94d8-08b6-40ea-8b71-a28f15bb48b1",
   "metadata": {},
   "outputs": [
    {
     "data": {
      "image/png": "[encoded data removed]",
      "text/plain": [
       "<Figure size 576x396 with 1 Axes>"
      ]
     },
     "metadata": {},
     "output_type": "display_data"
    },
    {
     "data": {
      "text/plain": [
       "<AxesSubplot:title={'center':'Silhouette Plot of KMeans Clustering for 1397 Samples in 3 Centers'}, xlabel='silhouette coefficient values', ylabel='cluster label'>"
      ]
     },
     "execution_count": 63,
     "metadata": {},
     "output_type": "execute_result"
    }
   ],
   "source": [
    "silhouette_model = KMeans(3, random_state=42)\n",
    "silhouette_visualizer = SilhouetteVisualizer(silhouette_model, colors='yellowbrick')\n",
    "silhouette_visualizer.fit(matrix)\n",
    "silhouette_visualizer.show()"
   ]
  },
  {
   "cell_type": "markdown",
   "id": "82983bf7-235e-41c8-94e2-7add73b45748",
   "metadata": {},
   "source": [
    "Posto Silhouette koeficijent pokazuje da je optimalan broj klastera 3, uzet cemo sredinu od 4 klastera"
   ]
  },
  {
   "cell_type": "markdown",
   "id": "8787dbce-2757-43ee-b2b2-200ba764206a",
   "metadata": {},
   "source": [
    "Da bi izbjegli problem gdje klasicni KMeans algoritam postavlja klastere koji su mali za bilo kakve preporuke koristit cemo KMeansConstrained"
   ]
  },
  {
   "cell_type": "markdown",
   "id": "f78a86b4-b1c3-4258-ba05-76be993da471",
   "metadata": {},
   "source": [
    "Postaviti cemo da je moguce imati najmanje 150 tacaka u klasteru"
   ]
  },
  {
   "cell_type": "code",
   "execution_count": 37,
   "id": "d4993ee7-575e-4c5e-9102-41db753ee722",
   "metadata": {},
   "outputs": [],
   "source": [
    "kmeans = KMeansConstrained(n_clusters=4, init='k-means++', size_min=150, max_iter=300, n_init=10, random_state=0)\n",
    "clusters = kmeans.fit_predict(matrix)"
   ]
  },
  {
   "cell_type": "markdown",
   "id": "7dc38258-1e9c-4ba8-a084-636eb8ef2132",
   "metadata": {},
   "source": [
    "Broj tacaka u svakom klasteru"
   ]
  },
  {
   "cell_type": "code",
   "execution_count": 38,
   "id": "ab80737b-b864-4919-9688-6fc782ced594",
   "metadata": {},
   "outputs": [
    {
     "data": {
      "text/plain": [
       "array([150, 823, 274, 150])"
      ]
     },
     "execution_count": 38,
     "metadata": {},
     "output_type": "execute_result"
    }
   ],
   "source": [
    "np.bincount(kmeans.labels_)"
   ]
  },
  {
   "cell_type": "code",
   "execution_count": 39,
   "id": "aff40356-e512-4c3c-bafc-f8a2f1adc567",
   "metadata": {},
   "outputs": [
    {
     "data": {
      "text/html": [
       "<div>\n",
       "<style scoped>\n",
       "    .dataframe tbody tr th:only-of-type {\n",
       "        vertical-align: middle;\n",
       "    }\n",
       "\n",
       "    .dataframe tbody tr th {\n",
       "        vertical-align: top;\n",
       "    }\n",
       "\n",
       "    .dataframe thead th {\n",
       "        text-align: right;\n",
       "    }\n",
       "</style>\n",
       "<table border=\"1\" class=\"dataframe\">\n",
       "  <thead>\n",
       "    <tr style=\"text-align: right;\">\n",
       "      <th></th>\n",
       "      <th>0</th>\n",
       "      <th>1</th>\n",
       "      <th>2</th>\n",
       "      <th>3</th>\n",
       "      <th>4</th>\n",
       "      <th>5</th>\n",
       "      <th>6</th>\n",
       "      <th>7</th>\n",
       "      <th>8</th>\n",
       "      <th>9</th>\n",
       "      <th>...</th>\n",
       "      <th>1387</th>\n",
       "      <th>1388</th>\n",
       "      <th>1389</th>\n",
       "      <th>1390</th>\n",
       "      <th>1391</th>\n",
       "      <th>1392</th>\n",
       "      <th>1393</th>\n",
       "      <th>1394</th>\n",
       "      <th>1395</th>\n",
       "      <th>1396</th>\n",
       "    </tr>\n",
       "  </thead>\n",
       "  <tbody>\n",
       "    <tr>\n",
       "      <th>userId</th>\n",
       "      <td>1</td>\n",
       "      <td>2</td>\n",
       "      <td>3</td>\n",
       "      <td>4</td>\n",
       "      <td>5</td>\n",
       "      <td>6</td>\n",
       "      <td>7</td>\n",
       "      <td>8</td>\n",
       "      <td>9</td>\n",
       "      <td>10</td>\n",
       "      <td>...</td>\n",
       "      <td>1537</td>\n",
       "      <td>1539</td>\n",
       "      <td>1541</td>\n",
       "      <td>1542</td>\n",
       "      <td>1544</td>\n",
       "      <td>1545</td>\n",
       "      <td>1546</td>\n",
       "      <td>1549</td>\n",
       "      <td>1550</td>\n",
       "      <td>1551</td>\n",
       "    </tr>\n",
       "    <tr>\n",
       "      <th>Cluster</th>\n",
       "      <td>2</td>\n",
       "      <td>2</td>\n",
       "      <td>0</td>\n",
       "      <td>1</td>\n",
       "      <td>3</td>\n",
       "      <td>1</td>\n",
       "      <td>2</td>\n",
       "      <td>3</td>\n",
       "      <td>1</td>\n",
       "      <td>2</td>\n",
       "      <td>...</td>\n",
       "      <td>1</td>\n",
       "      <td>1</td>\n",
       "      <td>1</td>\n",
       "      <td>1</td>\n",
       "      <td>1</td>\n",
       "      <td>1</td>\n",
       "      <td>1</td>\n",
       "      <td>1</td>\n",
       "      <td>1</td>\n",
       "      <td>1</td>\n",
       "    </tr>\n",
       "  </tbody>\n",
       "</table>\n",
       "<p>2 rows × 1397 columns</p>\n",
       "</div>"
      ],
      "text/plain": [
       "         0     1     2     3     4     5     6     7     8     9     ...  \\\n",
       "userId      1     2     3     4     5     6     7     8     9    10  ...   \n",
       "Cluster     2     2     0     1     3     1     2     3     1     2  ...   \n",
       "\n",
       "         1387  1388  1389  1390  1391  1392  1393  1394  1395  1396  \n",
       "userId   1537  1539  1541  1542  1544  1545  1546  1549  1550  1551  \n",
       "Cluster     1     1     1     1     1     1     1     1     1     1  \n",
       "\n",
       "[2 rows x 1397 columns]"
      ]
     },
     "execution_count": 39,
     "metadata": {},
     "output_type": "execute_result"
    }
   ],
   "source": [
    "# Mozemo prikazati korisnike i njihove klastere\n",
    "users_and_their_clusters_df = pd.DataFrame(np.concatenate((users_ids.reshape(-1,1),clusters.reshape(-1,1)), axis=1), columns = ['userId', 'Cluster'])\n",
    "users_and_their_clusters_df.T"
   ]
  },
  {
   "cell_type": "markdown",
   "id": "01d827a5-6606-46d2-a7e7-b8db5906a06a",
   "metadata": {},
   "source": [
    "Kada smo rijesili obucavanje modela, mozemo uzeti filmove za koje prethodno uzeli recenzije"
   ]
  },
  {
   "cell_type": "code",
   "execution_count": 40,
   "id": "2f97e4c1-f7f4-43eb-97a8-e4a24dc331f8",
   "metadata": {},
   "outputs": [],
   "source": [
    "movies = movies.loc[movies['movieId'].isin(np.unique(users_with_their_movies['movieId']))].reset_index(drop=True)"
   ]
  },
  {
   "cell_type": "code",
   "execution_count": 41,
   "id": "9b445b37-3e87-4e1d-8dd7-22bf9161e29b",
   "metadata": {},
   "outputs": [
    {
     "data": {
      "text/html": [
       "<div>\n",
       "<style scoped>\n",
       "    .dataframe tbody tr th:only-of-type {\n",
       "        vertical-align: middle;\n",
       "    }\n",
       "\n",
       "    .dataframe tbody tr th {\n",
       "        vertical-align: top;\n",
       "    }\n",
       "\n",
       "    .dataframe thead th {\n",
       "        text-align: right;\n",
       "    }\n",
       "</style>\n",
       "<table border=\"1\" class=\"dataframe\">\n",
       "  <thead>\n",
       "    <tr style=\"text-align: right;\">\n",
       "      <th></th>\n",
       "      <th>movieId</th>\n",
       "      <th>title</th>\n",
       "      <th>genres</th>\n",
       "    </tr>\n",
       "  </thead>\n",
       "  <tbody>\n",
       "    <tr>\n",
       "      <th>0</th>\n",
       "      <td>1</td>\n",
       "      <td>Toy Story (1995)</td>\n",
       "      <td>Adventure|Animation|Children|Comedy|Fantasy</td>\n",
       "    </tr>\n",
       "    <tr>\n",
       "      <th>1</th>\n",
       "      <td>2</td>\n",
       "      <td>Jumanji (1995)</td>\n",
       "      <td>Adventure|Children|Fantasy</td>\n",
       "    </tr>\n",
       "    <tr>\n",
       "      <th>2</th>\n",
       "      <td>3</td>\n",
       "      <td>Grumpier Old Men (1995)</td>\n",
       "      <td>Comedy|Romance</td>\n",
       "    </tr>\n",
       "    <tr>\n",
       "      <th>3</th>\n",
       "      <td>4</td>\n",
       "      <td>Waiting to Exhale (1995)</td>\n",
       "      <td>Comedy|Drama|Romance</td>\n",
       "    </tr>\n",
       "    <tr>\n",
       "      <th>4</th>\n",
       "      <td>5</td>\n",
       "      <td>Father of the Bride Part II (1995)</td>\n",
       "      <td>Comedy</td>\n",
       "    </tr>\n",
       "    <tr>\n",
       "      <th>...</th>\n",
       "      <td>...</td>\n",
       "      <td>...</td>\n",
       "      <td>...</td>\n",
       "    </tr>\n",
       "    <tr>\n",
       "      <th>1138</th>\n",
       "      <td>1545</td>\n",
       "      <td>Ponette (1996)</td>\n",
       "      <td>Drama</td>\n",
       "    </tr>\n",
       "    <tr>\n",
       "      <th>1139</th>\n",
       "      <td>1546</td>\n",
       "      <td>Schizopolis (1996)</td>\n",
       "      <td>Comedy</td>\n",
       "    </tr>\n",
       "    <tr>\n",
       "      <th>1140</th>\n",
       "      <td>1549</td>\n",
       "      <td>Rough Magic (1995)</td>\n",
       "      <td>Drama|Romance</td>\n",
       "    </tr>\n",
       "    <tr>\n",
       "      <th>1141</th>\n",
       "      <td>1550</td>\n",
       "      <td>Trial and Error (1997)</td>\n",
       "      <td>Comedy|Romance</td>\n",
       "    </tr>\n",
       "    <tr>\n",
       "      <th>1142</th>\n",
       "      <td>1551</td>\n",
       "      <td>Buddy (1997)</td>\n",
       "      <td>Adventure|Children|Drama</td>\n",
       "    </tr>\n",
       "  </tbody>\n",
       "</table>\n",
       "<p>1143 rows × 3 columns</p>\n",
       "</div>"
      ],
      "text/plain": [
       "      movieId                               title  \\\n",
       "0           1                    Toy Story (1995)   \n",
       "1           2                      Jumanji (1995)   \n",
       "2           3             Grumpier Old Men (1995)   \n",
       "3           4            Waiting to Exhale (1995)   \n",
       "4           5  Father of the Bride Part II (1995)   \n",
       "...       ...                                 ...   \n",
       "1138     1545                      Ponette (1996)   \n",
       "1139     1546                  Schizopolis (1996)   \n",
       "1140     1549                  Rough Magic (1995)   \n",
       "1141     1550              Trial and Error (1997)   \n",
       "1142     1551                        Buddy (1997)   \n",
       "\n",
       "                                           genres  \n",
       "0     Adventure|Animation|Children|Comedy|Fantasy  \n",
       "1                      Adventure|Children|Fantasy  \n",
       "2                                  Comedy|Romance  \n",
       "3                            Comedy|Drama|Romance  \n",
       "4                                          Comedy  \n",
       "...                                           ...  \n",
       "1138                                        Drama  \n",
       "1139                                       Comedy  \n",
       "1140                                Drama|Romance  \n",
       "1141                               Comedy|Romance  \n",
       "1142                     Adventure|Children|Drama  \n",
       "\n",
       "[1143 rows x 3 columns]"
      ]
     },
     "execution_count": 41,
     "metadata": {},
     "output_type": "execute_result"
    }
   ],
   "source": [
    "movies"
   ]
  },
  {
   "cell_type": "markdown",
   "id": "88f5c098-a23d-474c-b000-7a2a0bc4f01e",
   "metadata": {},
   "source": [
    "Sad cemo postaviti filmove na osnovu klastera korisnici u zavisnosti koliko svaki klaster sadrzi filmova"
   ]
  },
  {
   "cell_type": "code",
   "execution_count": 42,
   "id": "986e766e-a74c-423f-b064-7432c55524d2",
   "metadata": {},
   "outputs": [],
   "source": [
    "def get_movies_clusters_per_users_clusters(users_and_their_clusters_df, users_with_their_movies):\n",
    "    # users_cluster nam je lista koja pokazuje po rednom broju kom klasteru korisnik pripada\n",
    "    users_clusters = list(users_and_their_clusters_df['Cluster'])\n",
    "    each_cluster_movies = []\n",
    "    for i in range(len(np.unique(users_clusters))):\n",
    "        users_list = list(users_and_their_clusters_df[users_and_their_clusters_df['Cluster'] == i]['userId'])\n",
    "        users_movies_list = []\n",
    "        for user_id in users_list:\n",
    "            users_movies_list.extend(list(users_with_their_movies[users_with_their_movies['userId'] == user_id]['movieId']))\n",
    "            users_movies_counts = []\n",
    "            users_movies_counts.extend([[movie, users_movies_list.count(movie)] for movie in np.unique(users_movies_list)])\n",
    "        each_cluster_movies.append(pd.DataFrame(users_movies_counts, columns=['movieId', 'Count']).sort_values(by = 'Count', ascending = False).reset_index(drop=True))\n",
    "    return each_cluster_movies"
   ]
  },
  {
   "cell_type": "code",
   "execution_count": 43,
   "id": "8b42a5d0-4dee-4b9f-951e-ca8dd0244483",
   "metadata": {},
   "outputs": [],
   "source": [
    "movies_clusters_per_users_clusters = get_movies_clusters_per_users_clusters(users_and_their_clusters_df, users_with_their_movies)"
   ]
  },
  {
   "cell_type": "code",
   "execution_count": 44,
   "id": "5c651df1-9352-4c13-9a1b-b197ced4a35d",
   "metadata": {},
   "outputs": [
    {
     "name": "stdout",
     "output_type": "stream",
     "text": [
      "Ukupno filmova u svakom klasteru -> 0 ->  1012\n",
      "Ukupno filmova u svakom klasteru -> 1 ->  771\n",
      "Ukupno filmova u svakom klasteru -> 2 ->  707\n",
      "Ukupno filmova u svakom klasteru -> 3 ->  647\n"
     ]
    }
   ],
   "source": [
    "for i in range(len(movies_clusters_per_users_clusters)):\n",
    "    print('Ukupno filmova u svakom klasteru -> ' + str(i) + ' -> ', movies_clusters_per_users_clusters[i].shape[0])"
   ]
  },
  {
   "cell_type": "code",
   "execution_count": 45,
   "id": "0d7ffc01-3523-4097-8b98-26379ff26983",
   "metadata": {},
   "outputs": [],
   "source": [
    "class ModelSaver:        \n",
    "    def __init__(self):\n",
    "        pass\n",
    "    # Save model to file\n",
    "    def save(self, path, data):\n",
    "        with open(path, 'wb') as file:\n",
    "            pickle.dump(data, file)    \n",
    "    \n",
    "    def save_cluster_movies_dataset(self, data):\n",
    "        return self.save('datasets/clusters_movies_dataset.pkl', data)\n",
    "\n",
    "    def save_users_clusters(self, data):\n",
    "        return self.save('datasets/users_clusters.pkl', data)\n",
    "\n",
    "    def save_model(self, data):\n",
    "        return self.save('trained_models/kmeans-trained-model.pkl', data)\n",
    "\n",
    "    def save_count_vectorizer(self, data):\n",
    "        return self.save('trained_models/count-vectorizer-model.pkl', data)"
   ]
  },
  {
   "cell_type": "code",
   "execution_count": 46,
   "id": "cbe3ddd7-59d9-4bef-9430-bdb497d1209a",
   "metadata": {},
   "outputs": [],
   "source": [
    "model_saver = ModelSaver()"
   ]
  },
  {
   "cell_type": "code",
   "execution_count": 47,
   "id": "2b3dd6c0-853b-42fa-9c3e-ac080c9ff273",
   "metadata": {},
   "outputs": [],
   "source": [
    "# model_saver.save_cluster_movies_dataset(movies_clusters_per_users_clusters)\n",
    "# model_saver.save_users_clusters(users_and_their_clusters_df)\n",
    "# model_saver.save_model(kmeans)\n",
    "# model_saver.save_count_vectorizer(count_vectorizer)"
   ]
  },
  {
   "cell_type": "code",
   "execution_count": null,
   "id": "83520da4-9051-4aeb-ba57-526b950b547e",
   "metadata": {},
   "outputs": [],
   "source": []
  }
 ],
 "metadata": {
  "kernelspec": {
   "display_name": "env",
   "language": "python",
   "name": "env"
  },
  "language_info": {
   "codemirror_mode": {
    "name": "ipython",
    "version": 3
   },
   "file_extension": ".py",
   "mimetype": "text/x-python",
   "name": "python",
   "nbconvert_exporter": "python",
   "pygments_lexer": "ipython3",
   "version": "3.9.2"
  }
 },
 "nbformat": 4,
 "nbformat_minor": 5
}
